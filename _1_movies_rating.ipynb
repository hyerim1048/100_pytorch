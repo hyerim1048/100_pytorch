{
  "nbformat": 4,
  "nbformat_minor": 0,
  "metadata": {
    "colab": {
      "name": "#1_movies_rating.ipynb",
      "version": "0.3.2",
      "provenance": [],
      "include_colab_link": true
    },
    "kernelspec": {
      "name": "python3",
      "display_name": "Python 3"
    }
  },
  "cells": [
    {
      "cell_type": "markdown",
      "metadata": {
        "id": "view-in-github",
        "colab_type": "text"
      },
      "source": [
        "[View in Colaboratory](https://colab.research.google.com/github/hyerim1048/100_pytorch/blob/master/_1_movies_rating.ipynb)"
      ]
    },
    {
      "metadata": {
        "id": "k9VZWP-D7XkO",
        "colab_type": "code",
        "colab": {}
      },
      "cell_type": "code",
      "source": [
        "!pip install pandas torch"
      ],
      "execution_count": 0,
      "outputs": []
    },
    {
      "metadata": {
        "id": "jjClyTySh-6T",
        "colab_type": "code",
        "colab": {
          "base_uri": "https://localhost:8080/",
          "height": 143
        },
        "outputId": "d178b721-99ea-4542-9bcf-cb47371a1e2b"
      },
      "cell_type": "code",
      "source": [
        "!pip install tqdm"
      ],
      "execution_count": 28,
      "outputs": [
        {
          "output_type": "stream",
          "text": [
            "Collecting tqdm\n",
            "\u001b[?25l  Downloading https://files.pythonhosted.org/packages/93/24/6ab1df969db228aed36a648a8959d1027099ce45fad67532b9673d533318/tqdm-4.23.4-py2.py3-none-any.whl (42kB)\n",
            "\u001b[K    100% |████████████████████████████████| 51kB 2.1MB/s \n",
            "\u001b[?25hInstalling collected packages: tqdm\n",
            "Successfully installed tqdm-4.23.4\n",
            "\u001b[33mYou are using pip version 10.0.1, however version 18.0 is available.\n",
            "You should consider upgrading via the 'pip install --upgrade pip' command.\u001b[0m\n"
          ],
          "name": "stdout"
        }
      ]
    },
    {
      "metadata": {
        "id": "keAnrgLM7xq-",
        "colab_type": "code",
        "colab": {}
      },
      "cell_type": "code",
      "source": [
        "!git clone https://github.com/e9t/nsmc.git"
      ],
      "execution_count": 0,
      "outputs": []
    },
    {
      "metadata": {
        "id": "w1rBCdAt8bag",
        "colab_type": "code",
        "colab": {}
      },
      "cell_type": "code",
      "source": [
        "!apt-get update\n",
        "\n",
        "!apt-get install g++ openjdk-8-jdk python-dev python3-dev\n",
        "\n",
        "!pip3 install JPype1-py3\n",
        "\n",
        "!pip3 install konlpy\n",
        "\n",
        "!JAVA_HOME=\"/usr/lib/jvm/java-8-openjdk-amd64\""
      ],
      "execution_count": 0,
      "outputs": []
    },
    {
      "metadata": {
        "id": "UgMKu7M87kHu",
        "colab_type": "code",
        "colab": {}
      },
      "cell_type": "code",
      "source": [
        "def read_data(filename):\n",
        "    with open(filename, 'r',encoding='utf-8') as f:\n",
        "        data = [line.split('\\t') for line in f.read().splitlines()]\n",
        "        data = data[1:]   # header 제외\n",
        "    return data\n",
        "train_data = read_data('./nsmc/ratings_train.txt')\n",
        "test_data = read_data('./nsmc/ratings_test.txt')"
      ],
      "execution_count": 0,
      "outputs": []
    },
    {
      "metadata": {
        "id": "nydF0U8H8HLX",
        "colab_type": "code",
        "colab": {
          "base_uri": "https://localhost:8080/",
          "height": 87
        },
        "outputId": "2dd1d556-df5e-49e8-8a1f-0495b386d616"
      },
      "cell_type": "code",
      "source": [
        "print(len(train_data))      \n",
        "print(len(train_data[0]))   \n",
        "print(len(test_data))       \n",
        "print(len(test_data[0])) "
      ],
      "execution_count": 0,
      "outputs": [
        {
          "output_type": "stream",
          "text": [
            "150000\n",
            "3\n",
            "50000\n",
            "3\n"
          ],
          "name": "stdout"
        }
      ]
    },
    {
      "metadata": {
        "id": "vF5ZtH1vF1RM",
        "colab_type": "code",
        "colab": {}
      },
      "cell_type": "code",
      "source": [
        "from collections import defaultdict\n",
        "import math\n",
        "import time\n",
        "import random\n",
        "import numpy as np\n",
        "import pdb\n",
        "import torch\n",
        "import torch.nn as nn\n",
        "import torch.nn.functional as F\n",
        "from tqdm import tqdm\n",
        "from collections import deque"
      ],
      "execution_count": 0,
      "outputs": []
    },
    {
      "metadata": {
        "id": "Gecfw64A9auv",
        "colab_type": "code",
        "colab": {
          "base_uri": "https://localhost:8080/",
          "height": 53
        },
        "outputId": "c74a2387-ccfc-4f04-9856-36a21086567b"
      },
      "cell_type": "code",
      "source": [
        "from konlpy.tag import Twitter\n",
        "pos_tagger = Twitter() #형태소 분석기\n",
        "def tokenize(doc):\n",
        "    # 형태소 분석후 [영화, Noun]을 \"영화/Noun\" 형태로 바꿔주는 function\n",
        "    # norm, stem은 optional\n",
        "    return ['/'.join(t) for t in pos_tagger.pos(doc, norm=True, stem=True)]\n",
        "\n",
        "#모든 train data와 test data 에 적용\n",
        "train_docs = [(tokenize(row[1]), row[2]) for row in train_data]\n",
        "test_docs = [(tokenize(row[1]), row[2]) for row in test_data]\n",
        "\n"
      ],
      "execution_count": 8,
      "outputs": [
        {
          "output_type": "stream",
          "text": [
            "2194536\n",
            "48765\n"
          ],
          "name": "stdout"
        }
      ]
    },
    {
      "metadata": {
        "id": "RSmgdQ-MhUyF",
        "colab_type": "code",
        "colab": {
          "base_uri": "https://localhost:8080/",
          "height": 53
        },
        "outputId": "0032a1f3-76c8-408a-bb5a-9229039c9696"
      },
      "cell_type": "code",
      "source": [
        "tokens = [t for d in train_docs+test_docs for t in d[0]]\n",
        "print(len((tokens))) # token 총 개수\n",
        "print(len(set(tokens))) # token unique 개수"
      ],
      "execution_count": 20,
      "outputs": [
        {
          "output_type": "stream",
          "text": [
            "2929087\n",
            "55824\n"
          ],
          "name": "stdout"
        }
      ]
    },
    {
      "metadata": {
        "id": "BSqGVRyzCFoE",
        "colab_type": "code",
        "colab": {}
      },
      "cell_type": "code",
      "source": [
        "# test and train set\n",
        "sentences = [train_docs[i][0] for i in range(len(train_docs))]\n",
        "for s in test_docs:\n",
        "  sentences.append(s[0])"
      ],
      "execution_count": 0,
      "outputs": []
    },
    {
      "metadata": {
        "id": "DOW-Y95idECP",
        "colab_type": "code",
        "colab": {}
      },
      "cell_type": "code",
      "source": [
        "# word to index\n",
        "w2i = defaultdict(lambda: len(w2i))\n",
        "\n",
        "def word_to_idx(tag_list):\n",
        "    for tags in tag_list:\n",
        "        yield [w2i[tag] for tag in tags]\n",
        "data = word_to_idx(sentences)\n",
        "\n",
        "train= list(data)\n",
        "i2w = {v: k for k, v in w2i.items()}"
      ],
      "execution_count": 0,
      "outputs": []
    },
    {
      "metadata": {
        "id": "-RvsjVHdd9AT",
        "colab_type": "code",
        "colab": {}
      },
      "cell_type": "code",
      "source": [
        "# hyper parameter - have to check\n",
        "emb_size = len(set(tokens))\n",
        "emb_dimension = 200\n",
        "batch_size = 128\n",
        "window_size = 5\n",
        "iteration=1\n",
        "initial_lr=0.025\n",
        "min_count=3\n",
        "sentence_count= len(sentences)\n",
        "sentence_length= len((tokens)) # 3  이하인 거는 안지움"
      ],
      "execution_count": 0,
      "outputs": []
    },
    {
      "metadata": {
        "id": "_BW7eYmrXaJi",
        "colab_type": "code",
        "colab": {}
      },
      "cell_type": "code",
      "source": [
        "def evaluate_pair_count(window_size):\n",
        "    return sentence_length * (2 * window_size - 1) - (sentence_count - 1) * (1 + window_size) * window_size\n"
      ],
      "execution_count": 0,
      "outputs": []
    },
    {
      "metadata": {
        "id": "DoSF5m94ZyEy",
        "colab_type": "code",
        "colab": {
          "base_uri": "https://localhost:8080/",
          "height": 71
        },
        "outputId": "cdca9dc3-d872-4ce3-fc51-808013d3be2d"
      },
      "cell_type": "code",
      "source": [
        "pair_count = evaluate_pair_count(window_size) # total pair\n",
        "batch_count = iteration * pair_count / batch_size # for 1 iteration how many batch iteration is needed\n",
        "process_bar = tqdm(range(int(batch_count)))\n",
        "word_pair_catch = deque()"
      ],
      "execution_count": 36,
      "outputs": [
        {
          "output_type": "stream",
          "text": [
            "\n",
            "\n",
            "  0%|          | 0/159076 [00:00<?, ?it/s]\u001b[A\u001b[A"
          ],
          "name": "stderr"
        }
      ]
    },
    {
      "metadata": {
        "id": "nxceEVEMGkVs",
        "colab_type": "code",
        "colab": {
          "base_uri": "https://localhost:8080/",
          "height": 35
        },
        "outputId": "1855f327-859b-4e5f-87f1-6a94b5c3b382"
      },
      "cell_type": "code",
      "source": [
        "for i in process_bar:"
      ],
      "execution_count": 26,
      "outputs": [
        {
          "output_type": "execute_result",
          "data": {
            "text/plain": [
              "20361813"
            ]
          },
          "metadata": {
            "tags": []
          },
          "execution_count": 26
        }
      ]
    },
    {
      "metadata": {
        "id": "Up98hVlTZzQC",
        "colab_type": "code",
        "colab": {}
      },
      "cell_type": "code",
      "source": [
        "# batch pair 만드는 함수 고치기\n",
        "#  sentence  순서대로?\n",
        "def get_batch_pairs(batch_size, window_size):\n",
        "    while len(word_pair_catch) < batch_size:\n",
        "\n",
        "        word_ids = []\n",
        "        for word in sentence.strip().split(' '):\n",
        "            try:\n",
        "                word_ids.append(self.word2id[word])\n",
        "            except:\n",
        "                continue\n",
        "        for i, u in enumerate(word_ids):\n",
        "            for j, v in enumerate(\n",
        "                    word_ids[max(i - window_size, 0):i + window_size]):\n",
        "                assert u < self.word_count\n",
        "                assert v < self.word_count\n",
        "                if i == j:\n",
        "                    continue\n",
        "                self.word_pair_catch.append((u, v))\n",
        "    batch_pairs = []\n",
        "    for _ in range(batch_size):\n",
        "        batch_pairs.append(self.word_pair_catch.popleft())\n",
        "    return batch_pairs"
      ],
      "execution_count": 0,
      "outputs": []
    },
    {
      "metadata": {
        "id": "zQjhy9hTArlv",
        "colab_type": "code",
        "colab": {}
      },
      "cell_type": "code",
      "source": [
        ""
      ],
      "execution_count": 0,
      "outputs": []
    }
  ]
}