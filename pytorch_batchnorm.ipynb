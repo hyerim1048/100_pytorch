{
  "nbformat": 4,
  "nbformat_minor": 0,
  "metadata": {
    "colab": {
      "name": "pytorch_batchnorm.ipynb",
      "version": "0.3.2",
      "provenance": [],
      "include_colab_link": true
    },
    "kernelspec": {
      "name": "python3",
      "display_name": "Python 3"
    }
  },
  "cells": [
    {
      "cell_type": "markdown",
      "metadata": {
        "id": "view-in-github",
        "colab_type": "text"
      },
      "source": [
        "[View in Colaboratory](https://colab.research.google.com/github/hyerim1048/100_pytorch/blob/master/pytorch_batchnorm.ipynb)"
      ]
    },
    {
      "metadata": {
        "id": "94OETAvIITnp",
        "colab_type": "code",
        "colab": {
          "base_uri": "https://localhost:8080/",
          "height": 142
        },
        "outputId": "aa645e7c-a2b5-4ed3-8d4f-1017712ca29a"
      },
      "cell_type": "code",
      "source": [
        "!pip3 install torch"
      ],
      "execution_count": 1,
      "outputs": [
        {
          "output_type": "stream",
          "text": [
            "Collecting torch\n",
            "\u001b[?25l  Downloading https://files.pythonhosted.org/packages/69/43/380514bd9663f1bf708abeb359b8b48d3fabb1c8e95bb3427a980a064c57/torch-0.4.0-cp36-cp36m-manylinux1_x86_64.whl (484.0MB)\n",
            "\u001b[K    100% |████████████████████████████████| 484.0MB 23kB/s \n",
            "tcmalloc: large alloc 1073750016 bytes == 0x5c54a000 @  0x7fa2ab75a1c4 0x46d6a4 0x5fcbcc 0x4c494d 0x54f3c4 0x553aaf 0x54e4c8 0x54f4f6 0x553aaf 0x54efc1 0x54f24d 0x553aaf 0x54efc1 0x54f24d 0x553aaf 0x54efc1 0x54f24d 0x551ee0 0x54e4c8 0x54f4f6 0x553aaf 0x54efc1 0x54f24d 0x551ee0 0x54efc1 0x54f24d 0x551ee0 0x54e4c8 0x54f4f6 0x553aaf 0x54e4c8\n",
            "\u001b[?25hInstalling collected packages: torch\n",
            "Successfully installed torch-0.4.0\n"
          ],
          "name": "stdout"
        }
      ]
    },
    {
      "metadata": {
        "id": "Sx4-UpkfIJg0",
        "colab_type": "code",
        "colab": {
          "base_uri": "https://localhost:8080/",
          "height": 17
        },
        "outputId": "99466bf0-9eb1-4dc5-a808-dbba1ee11948"
      },
      "cell_type": "code",
      "source": [
        "import torch\n",
        "from torch.autograd import Variable\n",
        "from torch import nn\n",
        "from torch.nn import init\n",
        "import torch.utils.data as Data\n",
        "import torch.nn.functional as F\n",
        "import matplotlib.pyplot as plt\n",
        "import numpy as np\n",
        "%matplotlib inline\n",
        "\n",
        "torch.manual_seed(1)    # reproducible\n",
        "np.random.seed(1)"
      ],
      "execution_count": 2,
      "outputs": []
    },
    {
      "metadata": {
        "id": "4ek0H7_hIeDv",
        "colab_type": "code",
        "colab": {
          "base_uri": "https://localhost:8080/",
          "height": 17
        },
        "outputId": "c2467819-2243-4000-843f-1e2632fbb8e3"
      },
      "cell_type": "code",
      "source": [
        "# Hyper parameters\n",
        "N_SAMPLES = 2000\n",
        "BATCH_SIZE = 64\n",
        "EPOCH = 12\n",
        "LR = 0.03\n",
        "N_HIDDEN = 8\n",
        "ACTIVATION = F.tanh\n",
        "B_INIT = -0.2"
      ],
      "execution_count": 3,
      "outputs": []
    },
    {
      "metadata": {
        "id": "z7nni6WuIg5o",
        "colab_type": "code",
        "colab": {
          "base_uri": "https://localhost:8080/",
          "height": 373
        },
        "outputId": "57ac93ec-b4c7-4343-b33e-74a909512ef0"
      },
      "cell_type": "code",
      "source": [
        "# 임의로 데이터 준비\n",
        "\n",
        "# training data\n",
        "x = np.linspace(-7, 10, N_SAMPLES)[:, np.newaxis]\n",
        "noise = np.random.normal(0, 2, x.shape)\n",
        "y = np.square(x) - 5 + noise\n",
        "\n",
        "# test data\n",
        "test_x = np.linspace(-7, 10, 200)[:, np.newaxis]\n",
        "noise = np.random.normal(0, 2, test_x.shape)\n",
        "test_y = np.square(test_x) - 5 + noise\n",
        "\n",
        "train_x, train_y = torch.from_numpy(x).float(), torch.from_numpy(y).float()\n",
        "test_x = Variable(torch.from_numpy(test_x).float(), volatile=True)  # not for computing gradients\n",
        "test_y = Variable(torch.from_numpy(test_y).float(), volatile=True)\n",
        "\n",
        "train_dataset = Data.TensorDataset(train_x, train_y)\n",
        "train_loader = Data.DataLoader(dataset=train_dataset, batch_size=BATCH_SIZE, shuffle=True, num_workers=2,)\n",
        "\n",
        "# show data\n",
        "plt.scatter(train_x.numpy(), train_y.numpy(), c='#FF9359', s=50, alpha=0.2, label='train')\n",
        "plt.legend(loc='upper left')"
      ],
      "execution_count": 4,
      "outputs": [
        {
          "output_type": "stream",
          "text": [
            "/usr/local/lib/python3.6/dist-packages/ipykernel_launcher.py:11: UserWarning: volatile was removed and now has no effect. Use `with torch.no_grad():` instead.\n",
            "  # This is added back by InteractiveShellApp.init_path()\n",
            "/usr/local/lib/python3.6/dist-packages/ipykernel_launcher.py:12: UserWarning: volatile was removed and now has no effect. Use `with torch.no_grad():` instead.\n",
            "  if sys.path[0] == '':\n"
          ],
          "name": "stderr"
        },
        {
          "output_type": "execute_result",
          "data": {
            "text/plain": [
              "<matplotlib.legend.Legend at 0x7f1e37c28a20>"
            ]
          },
          "metadata": {
            "tags": []
          },
          "execution_count": 4
        },
        {
          "output_type": "display_data",
          "data": {
            "image/png": "[encoded data removed]",
            "text/plain": [
              "<matplotlib.figure.Figure at 0x7f1e37cd8780>"
            ]
          },
          "metadata": {
            "tags": []
          }
        }
      ]
    },
    {
      "metadata": {
        "id": "RSRkcH_rJ02t",
        "colab_type": "code",
        "colab": {}
      },
      "cell_type": "code",
      "source": [
        "## torch.nn.BatchNorm1d(num_features, eps=1e-05,momentum=0.1, affine=true, tracj_running_stats=True)"
      ],
      "execution_count": 0,
      "outputs": []
    },
    {
      "metadata": {
        "id": "v6LLU9pmKAQF",
        "colab_type": "text"
      },
      "cell_type": "markdown",
      "source": [
        "mini-batch마다 standard-deviation과 평균을 계산 한 후에 learnable gamma와 beta를 넣어줌.\n",
        "\n"
      ]
    },
    {
      "metadata": {
        "id": "lol2nHAHFDs5",
        "colab_type": "code",
        "colab": {
          "base_uri": "https://localhost:8080/",
          "height": 158
        },
        "outputId": "d5a53a1e-0648-432a-a1dd-5ef367cd8b11"
      },
      "cell_type": "code",
      "source": [
        "for i in range(N_HIDDEN):               # build hidden layers and BN layers\n",
        "  input_size = 1 if i == 0 else 10 # 처음에는 1 \n",
        "  fc = nn.Linear(input_size, 10) # input size * 10 neural net\n",
        "  print('fc%s' % i, fc)"
      ],
      "execution_count": 10,
      "outputs": [
        {
          "output_type": "stream",
          "text": [
            "fc0 Linear(in_features=1, out_features=10, bias=True)\n",
            "fc1 Linear(in_features=10, out_features=10, bias=True)\n",
            "fc2 Linear(in_features=10, out_features=10, bias=True)\n",
            "fc3 Linear(in_features=10, out_features=10, bias=True)\n",
            "fc4 Linear(in_features=10, out_features=10, bias=True)\n",
            "fc5 Linear(in_features=10, out_features=10, bias=True)\n",
            "fc6 Linear(in_features=10, out_features=10, bias=True)\n",
            "fc7 Linear(in_features=10, out_features=10, bias=True)\n"
          ],
          "name": "stdout"
        }
      ]
    },
    {
      "metadata": {
        "id": "eqJqmijGIvT8",
        "colab_type": "code",
        "colab": {
          "base_uri": "https://localhost:8080/",
          "height": 17
        },
        "outputId": "83df1d52-8848-4247-8299-3ec29a891c1d"
      },
      "cell_type": "code",
      "source": [
        "class Net(nn.Module):\n",
        "    def __init__(self, batch_normalization=False):\n",
        "        super(Net, self).__init__()\n",
        "        self.do_bn = batch_normalization\n",
        "        self.fcs = []\n",
        "        self.bns = []\n",
        "        self.bn_input = nn.BatchNorm1d(1, momentum=0.5)   # 1d input batch norm\n",
        "\n",
        "        for i in range(N_HIDDEN):               # build hidden layers and BN layers\n",
        "            input_size = 1 if i == 0 else 10 # 처음에는 1 \n",
        "            fc = nn.Linear(input_size, 10) # input size * 10 neural net\n",
        "            setattr(self, 'fc%i' % i, fc)       # fc%i : type int 로 0 ~ 9까지 이름을 붙임\n",
        "            self._set_init(fc)                  # parameters initialization\n",
        "            self.fcs.append(fc)\n",
        "            if self.do_bn:\n",
        "                bn = nn.BatchNorm1d(10, momentum=0.5)\n",
        "                setattr(self, 'bn%i' % i, bn)   # IMPORTANT set layer to the Module\n",
        "                self.bns.append(bn)\n",
        "\n",
        "        self.predict = nn.Linear(10, 1)         # output layer\n",
        "        self._set_init(self.predict)      \n",
        "            \n",
        "    def _set_init(self, layer):\n",
        "        init.normal_(layer.weight, mean=0., std=.1) # normal ->>  normal_ 함수로 대체\n",
        "        init.constant_(layer.bias, B_INIT)\n",
        "          \n",
        "\n",
        "    def forward(self, x):\n",
        "        pre_activation = [x]\n",
        "        if self.do_bn: x = self.bn_input(x)     # 여기서 input에 batch normalization\n",
        "        layer_input = [x]\n",
        "        for i in range(N_HIDDEN): # Hidden State크기 만큼\n",
        "            x = self.fcs[i](x) #\n",
        "            pre_activation.append(x)\n",
        "            if self.do_bn: x = self.bns[i](x)   # batch normalization\n",
        "            x = ACTIVATION(x)\n",
        "            layer_input.append(x)\n",
        "        out = self.predict(x)\n",
        "        return out, layer_input, pre_activation"
      ],
      "execution_count": 14,
      "outputs": []
    },
    {
      "metadata": {
        "id": "R_024HsSHF_j",
        "colab_type": "code",
        "colab": {
          "base_uri": "https://localhost:8080/",
          "height": 17
        },
        "outputId": "35fb5718-0055-462d-a94d-1d7ef9db6cd3"
      },
      "cell_type": "code",
      "source": [
        "nets = [Net(batch_normalization=False), Net(batch_normalization=True)] # batchnorm  False and True"
      ],
      "execution_count": 15,
      "outputs": []
    },
    {
      "metadata": {
        "id": "cTkEIkmHHREZ",
        "colab_type": "code",
        "colab": {
          "base_uri": "https://localhost:8080/",
          "height": 17
        },
        "outputId": "8a61da64-939b-4133-e89d-a586d1db1ff1"
      },
      "cell_type": "code",
      "source": [
        "opts = [torch.optim.Adam(net.parameters(), lr=LR) for net in nets]\n",
        "\n",
        "loss_func = torch.nn.MSELoss()"
      ],
      "execution_count": 16,
      "outputs": []
    },
    {
      "metadata": {
        "id": "aydWjuq9HmRo",
        "colab_type": "code",
        "colab": {}
      },
      "cell_type": "code",
      "source": [
        "f,  axs  =  plt.subplots(4, N_HIDDEN+1, figsize=(10, 5))\n",
        "plt.ion()  \n",
        "def plot_histogram(l_in, l_in_bn, pre_ac, pre_ac_bn):\n",
        "    for i, (ax_pa, ax_pa_bn, ax,  ax_bn) in enumerate(zip(axs[0, :], axs[1, :], axs[2, :], axs[3, :])):\n",
        "        [a.clear() for a in [ax_pa, ax_pa_bn, ax, ax_bn]]\n",
        "        if i == 0: p_range = (-7, 10);the_range = (-7, 10)\n",
        "        else:p_range = (-4, 4);the_range = (-1, 1)\n",
        "        ax_pa.set_title('L' + str(i))\n",
        "        ax_pa.hist(pre_ac[i].data.numpy().ravel(), bins=10, range=p_range, color='#FF9359', alpha=0.5);ax_pa_bn.hist(pre_ac_bn[i].data.numpy().ravel(), bins=10, range=p_range, color='#74BCFF', alpha=0.5)\n",
        "        ax.hist(l_in[i].data.numpy().ravel(), bins=10, range=the_range, color='#FF9359');ax_bn.hist(l_in_bn[i].data.numpy().ravel(), bins=10, range=the_range, color='#74BCFF')\n",
        "        for a in [ax_pa, ax, ax_pa_bn, ax_bn]: a.set_yticks(());a.set_xticks(())\n",
        "        ax_pa_bn.set_xticks(p_range);ax_bn.set_xticks(the_range)\n",
        "        axs[0, 0].set_ylabel('PreAct');axs[1, 0].set_ylabel('BN PreAct');axs[2, 0].set_ylabel('Act');axs[3, 0].set_ylabel('BN Act')\n",
        "    plt.pause(0.01)\n"
      ],
      "execution_count": 0,
      "outputs": []
    }
  ]
}