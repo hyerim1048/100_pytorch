{
  "nbformat": 4,
  "nbformat_minor": 0,
  "metadata": {
    "colab": {
      "name": "pytorch_batchnorm.ipynb",
      "version": "0.3.2",
      "provenance": [],
      "include_colab_link": true
    },
    "kernelspec": {
      "name": "python3",
      "display_name": "Python 3"
    }
  },
  "cells": [
    {
      "cell_type": "markdown",
      "metadata": {
        "id": "view-in-github",
        "colab_type": "text"
      },
      "source": [
        "[View in Colaboratory](https://colab.research.google.com/github/hyerim1048/100_pytorch/blob/master/pytorch_batchnorm.ipynb)"
      ]
    },
    {
      "metadata": {
        "id": "94OETAvIITnp",
        "colab_type": "code",
        "colab": {
          "base_uri": "https://localhost:8080/",
          "height": 139
        },
        "outputId": "ec07c864-c27b-4ce0-f671-6c400f2365e2"
      },
      "cell_type": "code",
      "source": [
        "!pip3 install torch"
      ],
      "execution_count": 1,
      "outputs": [
        {
          "output_type": "stream",
          "text": [
            "Collecting torch\n",
            "\u001b[?25l  Downloading https://files.pythonhosted.org/packages/69/43/380514bd9663f1bf708abeb359b8b48d3fabb1c8e95bb3427a980a064c57/torch-0.4.0-cp36-cp36m-manylinux1_x86_64.whl (484.0MB)\n",
            "\u001b[K    100% |████████████████████████████████| 484.0MB 12kB/s \n",
            "tcmalloc: large alloc 1073750016 bytes == 0x5b1d2000 @  0x7fca7c6981c4 0x46d6a4 0x5fcbcc 0x4c494d 0x54f3c4 0x553aaf 0x54e4c8 0x54f4f6 0x553aaf 0x54efc1 0x54f24d 0x553aaf 0x54efc1 0x54f24d 0x553aaf 0x54efc1 0x54f24d 0x551ee0 0x54e4c8 0x54f4f6 0x553aaf 0x54efc1 0x54f24d 0x551ee0 0x54efc1 0x54f24d 0x551ee0 0x54e4c8 0x54f4f6 0x553aaf 0x54e4c8\n",
            "\u001b[?25hInstalling collected packages: torch\n",
            "Successfully installed torch-0.4.0\n"
          ],
          "name": "stdout"
        }
      ]
    },
    {
      "metadata": {
        "id": "Sx4-UpkfIJg0",
        "colab_type": "code",
        "colab": {}
      },
      "cell_type": "code",
      "source": [
        "import torch\n",
        "from torch.autograd import Variable\n",
        "from torch import nn\n",
        "from torch.nn import init\n",
        "import torch.utils.data as Data\n",
        "import torch.nn.functional as F\n",
        "import matplotlib.pyplot as plt\n",
        "import numpy as np\n",
        "%matplotlib inline\n",
        "\n",
        "torch.manual_seed(1)    # reproducible\n",
        "np.random.seed(1)"
      ],
      "execution_count": 0,
      "outputs": []
    },
    {
      "metadata": {
        "id": "4ek0H7_hIeDv",
        "colab_type": "code",
        "colab": {}
      },
      "cell_type": "code",
      "source": [
        "# Hyper parameters\n",
        "N_SAMPLES = 2000\n",
        "BATCH_SIZE = 64\n",
        "EPOCH = 12\n",
        "LR = 0.03\n",
        "N_HIDDEN = 8\n",
        "ACTIVATION = F.tanh\n",
        "B_INIT = -0.2"
      ],
      "execution_count": 0,
      "outputs": []
    },
    {
      "metadata": {
        "id": "z7nni6WuIg5o",
        "colab_type": "code",
        "colab": {
          "base_uri": "https://localhost:8080/",
          "height": 370
        },
        "outputId": "7694e27c-5519-4091-fe5a-ed315ef41505"
      },
      "cell_type": "code",
      "source": [
        "# 임의로 데이터 준비\n",
        "\n",
        "# training data\n",
        "x = np.linspace(-7, 10, N_SAMPLES)[:, np.newaxis]\n",
        "noise = np.random.normal(0, 2, x.shape)\n",
        "y = np.square(x) - 5 + noise\n",
        "\n",
        "# test data\n",
        "test_x = np.linspace(-7, 10, 200)[:, np.newaxis]\n",
        "noise = np.random.normal(0, 2, test_x.shape)\n",
        "test_y = np.square(test_x) - 5 + noise\n",
        "\n",
        "train_x, train_y = torch.from_numpy(x).float(), torch.from_numpy(y).float()\n",
        "test_x = Variable(torch.from_numpy(test_x).float(), volatile=True)  # not for computing gradients\n",
        "test_y = Variable(torch.from_numpy(test_y).float(), volatile=True)\n",
        "\n",
        "train_dataset = Data.TensorDataset(train_x, train_y)\n",
        "train_loader = Data.DataLoader(dataset=train_dataset, batch_size=BATCH_SIZE, shuffle=True, num_workers=2,)\n",
        "\n",
        "# show data\n",
        "plt.scatter(train_x.numpy(), train_y.numpy(), c='#FF9359', s=50, alpha=0.2, label='train')\n",
        "plt.legend(loc='upper left')"
      ],
      "execution_count": 6,
      "outputs": [
        {
          "output_type": "stream",
          "text": [
            "/usr/local/lib/python3.6/dist-packages/ipykernel_launcher.py:11: UserWarning: volatile was removed and now has no effect. Use `with torch.no_grad():` instead.\n",
            "  # This is added back by InteractiveShellApp.init_path()\n",
            "/usr/local/lib/python3.6/dist-packages/ipykernel_launcher.py:12: UserWarning: volatile was removed and now has no effect. Use `with torch.no_grad():` instead.\n",
            "  if sys.path[0] == '':\n"
          ],
          "name": "stderr"
        },
        {
          "output_type": "execute_result",
          "data": {
            "text/plain": [
              "<matplotlib.legend.Legend at 0x7f81933ce160>"
            ]
          },
          "metadata": {
            "tags": []
          },
          "execution_count": 6
        },
        {
          "output_type": "display_data",
          "data": {
            "image/png": "[encoded data removed]",
            "text/plain": [
              "<matplotlib.figure.Figure at 0x7f8193462d30>"
            ]
          },
          "metadata": {
            "tags": []
          }
        }
      ]
    },
    {
      "metadata": {
        "id": "RSRkcH_rJ02t",
        "colab_type": "code",
        "colab": {}
      },
      "cell_type": "code",
      "source": [
        "## torch.nn.BatchNorm1d(num_features, eps=1e-05,momentum=0.1, affine=true, tracj_running_stats=True)"
      ],
      "execution_count": 0,
      "outputs": []
    },
    {
      "metadata": {
        "id": "v6LLU9pmKAQF",
        "colab_type": "text"
      },
      "cell_type": "markdown",
      "source": [
        "mini-batch마다 standard-deviation과 평균을 계산 한 후에 learnable gamma와 beta를 넣어줌.\n",
        "\n"
      ]
    },
    {
      "metadata": {
        "id": "eqJqmijGIvT8",
        "colab_type": "code",
        "colab": {}
      },
      "cell_type": "code",
      "source": [
        "class Net(nn.Module):\n",
        "    def __init__(self, batch_normalization=False):\n",
        "        super(Net, self).__init__()\n",
        "        self.do_bn = batch_normalization\n",
        "        self.fcs = []\n",
        "        self.bns = []\n",
        "        self.bn_input = nn.BatchNorm1d(1, momentum=0.5)   # 1d input batch norm\n",
        "\n",
        "        for i in range(N_HIDDEN):               # build hidden layers and BN layers\n",
        "            input_size = 1 if i == 0 else 10 # 처음에는 1 \n",
        "            fc = nn.Linear(input_size, 10) # input size * 10 neural net\n",
        "            setattr(self, 'fc%i' % i, fc)       # IMPORTANT set layer to the Module\n",
        "            self._set_init(fc)                  # parameters initialization\n",
        "            self.fcs.append(fc)\n",
        "            if self.do_bn:\n",
        "                bn = nn.BatchNorm1d(10, momentum=0.5)\n",
        "                setattr(self, 'bn%i' % i, bn)   # IMPORTANT set layer to the Module\n",
        "                self.bns.append(bn)\n",
        "\n",
        "### 여기 추가해야함 ########\n",
        "\n",
        "    def forward(self, x):\n",
        "        pre_activation = [x]\n",
        "        if self.do_bn: x = self.bn_input(x)     # 여기서 input에 batch normalization\n",
        "        layer_input = [x]\n",
        "        for i in range(N_HIDDEN): # Hidden State크기 만큼\n",
        "            x = self.fcs[i](x) #\n",
        "            pre_activation.append(x)\n",
        "            if self.do_bn: x = self.bns[i](x)   # batch normalization\n",
        "            x = ACTIVATION(x)\n",
        "            layer_input.append(x)\n",
        "        out = self.predict(x)\n",
        "        return out, layer_input, pre_activation"
      ],
      "execution_count": 0,
      "outputs": []
    }
  ]
}