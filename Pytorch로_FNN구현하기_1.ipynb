{
  "nbformat": 4,
  "nbformat_minor": 0,
  "metadata": {
    "colab": {
      "name": "Pytorch로 FNN구현하기-1.ipynb",
      "version": "0.3.2",
      "views": {},
      "default_view": {},
      "provenance": []
    },
    "kernelspec": {
      "name": "python3",
      "display_name": "Python 3"
    }
  },
  "cells": [
    {
      "metadata": {
        "id": "FDo2eAZc7t27",
        "colab_type": "text"
      },
      "cell_type": "markdown",
      "source": [
        "# Pytorch"
      ]
    },
    {
      "metadata": {
        "id": "7u_zf_BF7Av7",
        "colab_type": "text"
      },
      "cell_type": "markdown",
      "source": [
        "## Colaboratory에서 GPU 사용 설정"
      ]
    },
    {
      "metadata": {
        "id": "uQ-AL18O6z1z",
        "colab_type": "text"
      },
      "cell_type": "markdown",
      "source": [
        "[수정] - [노트 설정]\n",
        "\n",
        "![대체 텍스트](https://jovianlin.io/content/images/2018/01/Screen-Shot-2018-01-23-at-8.38.04-AM.png)\n"
      ]
    },
    {
      "metadata": {
        "id": "LaVnvQlF7UjA",
        "colab_type": "text"
      },
      "cell_type": "markdown",
      "source": [
        "## Pytorch 설치하기"
      ]
    },
    {
      "metadata": {
        "id": "q5xlnUYm6BJX",
        "colab_type": "code",
        "colab": {
          "autoexec": {
            "startup": false,
            "wait_interval": 0
          },
          "base_uri": "https://localhost:8080/",
          "height": 126
        },
        "outputId": "001bd211-51a7-4dfd-c92f-0ca6116d463e",
        "executionInfo": {
          "status": "ok",
          "timestamp": 1527777638814,
          "user_tz": -540,
          "elapsed": 2844,
          "user": {
            "displayName": "김혜림",
            "photoUrl": "https://lh3.googleusercontent.com/a/default-user=s128",
            "userId": "117018248794618516665"
          }
        }
      },
      "cell_type": "code",
      "source": [
        "!pip3 install torch torchvision"
      ],
      "execution_count": 3,
      "outputs": [
        {
          "output_type": "stream",
          "text": [
            "Requirement already satisfied: torch in /usr/local/lib/python3.6/dist-packages (0.4.0)\r\n",
            "Requirement already satisfied: torchvision in /usr/local/lib/python3.6/dist-packages (0.2.1)\r\n",
            "Requirement already satisfied: numpy in /usr/local/lib/python3.6/dist-packages (from torchvision) (1.14.3)\r\n",
            "Requirement already satisfied: six in /usr/local/lib/python3.6/dist-packages (from torchvision) (1.11.0)\r\n",
            "Requirement already satisfied: pillow>=4.1.1 in /usr/local/lib/python3.6/dist-packages (from torchvision) (5.1.0)\r\n"
          ],
          "name": "stdout"
        }
      ]
    },
    {
      "metadata": {
        "id": "cdvV-nh8_2P0",
        "colab_type": "text"
      },
      "cell_type": "markdown",
      "source": [
        "## Tensor"
      ]
    },
    {
      "metadata": {
        "id": "UKZeI4_08HOG",
        "colab_type": "code",
        "colab": {
          "autoexec": {
            "startup": false,
            "wait_interval": 0
          }
        }
      },
      "cell_type": "code",
      "source": [
        "## import pytorch\n",
        "import torch\n"
      ],
      "execution_count": 0,
      "outputs": []
    },
    {
      "metadata": {
        "id": "CdbMjqrd-N58",
        "colab_type": "code",
        "colab": {
          "autoexec": {
            "startup": false,
            "wait_interval": 0
          },
          "base_uri": "https://localhost:8080/",
          "height": 68
        },
        "outputId": "c1d5aa76-4134-45ac-e5aa-7c151ced9834",
        "executionInfo": {
          "status": "ok",
          "timestamp": 1527766410936,
          "user_tz": -540,
          "elapsed": 936,
          "user": {
            "displayName": "김혜림",
            "photoUrl": "https://lh3.googleusercontent.com/a/default-user=s128",
            "userId": "117018248794618516665"
          }
        }
      },
      "cell_type": "code",
      "source": [
        "# define a tensor\n",
        "# tensor 는 n차원 array라고 생각하면 됩니다.\n",
        "torch.FloatTensor([2])"
      ],
      "execution_count": 6,
      "outputs": [
        {
          "output_type": "execute_result",
          "data": {
            "text/plain": [
              "\n",
              " 2\n",
              "[torch.FloatTensor of size 1]"
            ]
          },
          "metadata": {
            "tags": []
          },
          "execution_count": 6
        }
      ]
    },
    {
      "metadata": {
        "id": "Q0f2rNpQ-WLC",
        "colab_type": "code",
        "colab": {
          "autoexec": {
            "startup": false,
            "wait_interval": 0
          },
          "base_uri": "https://localhost:8080/",
          "height": 68
        },
        "outputId": "ef02f879-c672-4352-ddbe-87d69d98cda9",
        "executionInfo": {
          "status": "ok",
          "timestamp": 1527766541467,
          "user_tz": -540,
          "elapsed": 880,
          "user": {
            "displayName": "김혜림",
            "photoUrl": "https://lh3.googleusercontent.com/a/default-user=s128",
            "userId": "117018248794618516665"
          }
        }
      },
      "cell_type": "code",
      "source": [
        "# add tensor\n",
        "# numpy에서 할 수 있는 수학적 연산들이 가능하고, GPU 연산이 가능하기 때문에 numpy보다 빠른 속도로 연산을 수행할 수 있습니다.\n",
        "a = torch.FloatTensor([2])\n",
        "b = torch.FloatTensor([3])\n",
        "\n",
        "a + b"
      ],
      "execution_count": 9,
      "outputs": [
        {
          "output_type": "execute_result",
          "data": {
            "text/plain": [
              "\n",
              " 5\n",
              "[torch.FloatTensor of size 1]"
            ]
          },
          "metadata": {
            "tags": []
          },
          "execution_count": 9
        }
      ]
    },
    {
      "metadata": {
        "id": "DXxPWqwx-qwV",
        "colab_type": "code",
        "colab": {
          "autoexec": {
            "startup": false,
            "wait_interval": 0
          },
          "base_uri": "https://localhost:8080/",
          "height": 102
        },
        "outputId": "6e168f4f-ed93-4f72-a0e8-219fb0be30cd",
        "executionInfo": {
          "status": "ok",
          "timestamp": 1527766589191,
          "user_tz": -540,
          "elapsed": 1029,
          "user": {
            "displayName": "김혜림",
            "photoUrl": "https://lh3.googleusercontent.com/a/default-user=s128",
            "userId": "117018248794618516665"
          }
        }
      },
      "cell_type": "code",
      "source": [
        "# create a matrix\n",
        "matrix = torch.randn(3, 3)\n",
        "matrix\n"
      ],
      "execution_count": 13,
      "outputs": [
        {
          "output_type": "execute_result",
          "data": {
            "text/plain": [
              "\n",
              "-1.1291  0.4947  0.2208\n",
              " 0.3218  0.6784 -1.2283\n",
              "-1.7947 -0.7480  1.2961\n",
              "[torch.FloatTensor of size 3x3]"
            ]
          },
          "metadata": {
            "tags": []
          },
          "execution_count": 13
        }
      ]
    },
    {
      "metadata": {
        "id": "gDqxMLzi-8io",
        "colab_type": "code",
        "colab": {
          "autoexec": {
            "startup": false,
            "wait_interval": 0
          },
          "base_uri": "https://localhost:8080/",
          "height": 164
        },
        "outputId": "d4461944-6f9f-4e95-867c-119be8c5a248",
        "executionInfo": {
          "status": "error",
          "timestamp": 1527844648627,
          "user_tz": -540,
          "elapsed": 1220,
          "user": {
            "displayName": "김혜림",
            "photoUrl": "https://lh3.googleusercontent.com/a/default-user=s128",
            "userId": "117018248794618516665"
          }
        }
      },
      "cell_type": "code",
      "source": [
        "matrix.t()"
      ],
      "execution_count": 1,
      "outputs": [
        {
          "output_type": "error",
          "ename": "NameError",
          "evalue": "ignored",
          "traceback": [
            "\u001b[0;31m---------------------------------------------------------------------------\u001b[0m",
            "\u001b[0;31mNameError\u001b[0m                                 Traceback (most recent call last)",
            "\u001b[0;32m<ipython-input-1-44b5e79e442b>\u001b[0m in \u001b[0;36m<module>\u001b[0;34m()\u001b[0m\n\u001b[0;32m----> 1\u001b[0;31m \u001b[0mmatrix\u001b[0m\u001b[0;34m.\u001b[0m\u001b[0mt\u001b[0m\u001b[0;34m(\u001b[0m\u001b[0;34m)\u001b[0m\u001b[0;34m\u001b[0m\u001b[0m\n\u001b[0m",
            "\u001b[0;31mNameError\u001b[0m: name 'matrix' is not defined"
          ]
        }
      ]
    },
    {
      "metadata": {
        "id": "1U4s3v77ozt9",
        "colab_type": "text"
      },
      "cell_type": "markdown",
      "source": [
        "## Autograd : automatic differentiation"
      ]
    },
    {
      "metadata": {
        "id": "R_pFQ6Wro2Qn",
        "colab_type": "text"
      },
      "cell_type": "markdown",
      "source": [
        "Tensor 선언할 때 requires_grad = True 옵션을 넣어주면 모든 연산을 추적합니다. \n",
        "\n",
        "그리고 .backward() 메소드를 부르면, 모든 gradient가 자동으로 계산되며, 계산된 gradient는 .grad 속성에 더해집니다. "
      ]
    },
    {
      "metadata": {
        "id": "ThJ8T0h_ox2A",
        "colab_type": "code",
        "colab": {
          "autoexec": {
            "startup": false,
            "wait_interval": 0
          }
        }
      },
      "cell_type": "code",
      "source": [
        "## import pytorch\n",
        "import torch\n",
        "\n",
        "x = torch.ones(2, 2, requires_grad=True)\n",
        "print(x)"
      ],
      "execution_count": 0,
      "outputs": []
    },
    {
      "metadata": {
        "id": "iChxgzAtox4M",
        "colab_type": "code",
        "colab": {
          "autoexec": {
            "startup": false,
            "wait_interval": 0
          }
        }
      },
      "cell_type": "code",
      "source": [
        "y = x + 2\n",
        "print(y)"
      ],
      "execution_count": 0,
      "outputs": []
    },
    {
      "metadata": {
        "id": "Cq6rKaDHox6k",
        "colab_type": "code",
        "colab": {
          "autoexec": {
            "startup": false,
            "wait_interval": 0
          }
        }
      },
      "cell_type": "code",
      "source": [
        "z = y * y * 3\n",
        "out = z.mean()\n",
        "\n",
        "print(z, out)"
      ],
      "execution_count": 0,
      "outputs": []
    },
    {
      "metadata": {
        "id": "tgi1KgxNox88",
        "colab_type": "code",
        "colab": {
          "autoexec": {
            "startup": false,
            "wait_interval": 0
          }
        }
      },
      "cell_type": "code",
      "source": [
        "out.backward()"
      ],
      "execution_count": 0,
      "outputs": []
    },
    {
      "metadata": {
        "id": "cNqxB4_Aox_v",
        "colab_type": "code",
        "colab": {
          "autoexec": {
            "startup": false,
            "wait_interval": 0
          }
        }
      },
      "cell_type": "code",
      "source": [
        "print(x.grad)"
      ],
      "execution_count": 0,
      "outputs": []
    },
    {
      "metadata": {
        "id": "kgyQdq-lpAbx",
        "colab_type": "text"
      },
      "cell_type": "markdown",
      "source": [
        "![](https://i.imgur.com/BSE3F8G.png)"
      ]
    },
    {
      "metadata": {
        "id": "cWc9TtJuoyCC",
        "colab_type": "code",
        "colab": {
          "autoexec": {
            "startup": false,
            "wait_interval": 0
          }
        }
      },
      "cell_type": "code",
      "source": [
        ""
      ],
      "execution_count": 0,
      "outputs": []
    },
    {
      "metadata": {
        "id": "rUP9nqqHpNri",
        "colab_type": "text"
      },
      "cell_type": "markdown",
      "source": [
        "##   Variable"
      ]
    },
    {
      "metadata": {
        "id": "UQ1vyaacpNos",
        "colab_type": "text"
      },
      "cell_type": "markdown",
      "source": [
        "Node in a computational graph (data, grad)"
      ]
    },
    {
      "metadata": {
        "id": "1CScfXL8pWie",
        "colab_type": "code",
        "colab": {
          "autoexec": {
            "startup": false,
            "wait_interval": 0
          }
        }
      },
      "cell_type": "code",
      "source": [
        "from torch.autograd import Variable"
      ],
      "execution_count": 0,
      "outputs": []
    },
    {
      "metadata": {
        "id": "7fbh07LtpT0m",
        "colab_type": "text"
      },
      "cell_type": "markdown",
      "source": [
        "![대체 텍스트](https://github.com/hpzhao/pytorch-tutorial/raw/f787dbd7ca25a2be22ad71b93aad9df2c3d9fdea/images/Toy.png)"
      ]
    },
    {
      "metadata": {
        "id": "7odFP5Yupt3v",
        "colab_type": "code",
        "colab": {
          "autoexec": {
            "startup": false,
            "wait_interval": 0
          }
        }
      },
      "cell_type": "code",
      "source": [
        "a  =  Variable (torch.LongTensor([2]),requires_grad=True)\n",
        "b = Variable(torch.LongTensor([1]),requires_grad=True)\n",
        "c = a + b\n",
        "d = b + 1\n",
        "e = c * d"
      ],
      "execution_count": 0,
      "outputs": []
    },
    {
      "metadata": {
        "id": "y6Da3dvipt6j",
        "colab_type": "code",
        "colab": {
          "autoexec": {
            "startup": false,
            "wait_interval": 0
          }
        }
      },
      "cell_type": "code",
      "source": [
        "print (a,b,c,d,e)"
      ],
      "execution_count": 0,
      "outputs": []
    },
    {
      "metadata": {
        "id": "0ZW_Kuihpv-s",
        "colab_type": "code",
        "colab": {
          "autoexec": {
            "startup": false,
            "wait_interval": 0
          }
        }
      },
      "cell_type": "code",
      "source": [
        "e.backward()"
      ],
      "execution_count": 0,
      "outputs": []
    },
    {
      "metadata": {
        "id": "6Hj9o__zpwA0",
        "colab_type": "code",
        "colab": {
          "autoexec": {
            "startup": false,
            "wait_interval": 0
          }
        }
      },
      "cell_type": "code",
      "source": [
        "print( a.grad.data,b.grad.data)"
      ],
      "execution_count": 0,
      "outputs": []
    },
    {
      "metadata": {
        "id": "ssy-e3W_pwDb",
        "colab_type": "code",
        "colab": {
          "autoexec": {
            "startup": false,
            "wait_interval": 0
          }
        }
      },
      "cell_type": "code",
      "source": [
        ""
      ],
      "execution_count": 0,
      "outputs": []
    }
  ]
}